{
  "nbformat": 4,
  "nbformat_minor": 0,
  "metadata": {
    "colab": {
      "name": "Differential Drive Trajectory Optimization",
      "provenance": [],
      "collapsed_sections": []
    },
    "kernelspec": {
      "display_name": "Python 3",
      "name": "python3"
    }
  },
  "cells": [
    {
      "cell_type": "markdown",
      "metadata": {
        "id": "nbIV8mRzocE-"
      },
      "source": [
        "#Differential Drive Trajectory Optimization\n",
        "##Steps:\n",
        "1) Generate the required model of our differential drive\n",
        "\n",
        "2) Test the model and make sure it behaves accurately\n",
        "\n",
        "3) Implement the model using `drake` which is a Non Linear Program Solver\n",
        "\n",
        "4) Graph everything"
      ]
    },
    {
      "cell_type": "markdown",
      "metadata": {
        "id": "G6W7BHniPC1L"
      },
      "source": [
        "Import Statements"
      ]
    },
    {
      "cell_type": "code",
      "metadata": {
        "id": "G79Izr7V7uQM"
      },
      "source": [
        "import numpy as np\n",
        "import matplotlib.pyplot as plt"
      ],
      "execution_count": null,
      "outputs": []
    },
    {
      "cell_type": "code",
      "metadata": {
        "id": "zWpnaYrSP7tl"
      },
      "source": [
        "try:\n",
        "  import pydrake\n",
        "  import underactuated\n",
        "except ImportError:\n",
        "  !curl -s https://raw.githubusercontent.com/RussTedrake/underactuated/master/scripts/setup/jupyter_setup.py > jupyter_setup.py\n",
        "  from jupyter_setup import setup_underactuated\n",
        "  setup_underactuated()"
      ],
      "execution_count": null,
      "outputs": []
    },
    {
      "cell_type": "markdown",
      "metadata": {
        "id": "L063_snTBWCQ"
      },
      "source": [
        "Constants:\n",
        "\n",
        "`m` - mass of robot\n",
        "\n",
        "`I` - moment of inertia of robot\n",
        "\n",
        "`r_bot` - radius of bot (width between wheels / 2)\n",
        "\n",
        "`r_wheel` - radius of wheel\n",
        "\n",
        "`k_emf` - emf constant of motor (must take into account gear ratio)\n",
        "\n",
        "`k_magnet` - constant of magnet (must take into account gear ratio)\n",
        "\n",
        "Input vector:\n",
        "\n",
        "$ \\mathbf{u} = \\begin{bmatrix}\n",
        "V_L \\\\\n",
        "V_R\n",
        "\\end{bmatrix} $\n",
        "\n",
        "State vector:\n",
        "\n",
        "$ \\mathbf{x} = \\begin{bmatrix}\n",
        "x \\\\ \n",
        "y \\\\\n",
        "\\theta \\\\\n",
        "v \\\\\n",
        "\\omega \\\\\n",
        "\\end{bmatrix} $\n",
        "\n",
        "\n",
        "$f(x, u)$ returns the derivative of x based on the input voltages\n",
        "\n",
        "$f(x, u) = \\mathbf{\\dot{x}} = \\begin{bmatrix} \\dot{x} \\\\ \\dot{y} \\\\ \\dot{\\theta}\\\\ \\dot{v} \\\\ \\dot{\\omega} \\end{bmatrix} = \\begin{bmatrix} v*cos(\\theta) \\\\ v*sin(\\theta) \\\\ \\omega \\\\ (\\tau(V_r) + \\tau(V_l)) / (r * r_{wheel} * m) \\\\ r_{wheelbase} * (\\tau(V_r) - \\tau(V_l)) / r_{wheel} \\end{bmatrix}$\n",
        "\n",
        "where $T(V)$ is a function of torque depending on $V_{applied}$"
      ]
    },
    {
      "cell_type": "code",
      "metadata": {
        "id": "csmgoWU-pVhW",
        "colab": {
          "base_uri": "https://localhost:8080/",
          "height": 69
        },
        "outputId": "e6c650ff-07d9-4559-b839-aaa8068325bd"
      },
      "source": [
        "from pydrake.all import eq, le, ge, MathematicalProgram, Solve, Variable\n",
        "\n",
        "m = 50. #kg\n",
        "r_bot = 0.5 #m\n",
        "r_wheel = 0.0762 #m\n",
        "I = (1/12.) * (2 * (2*r_bot) ** 2) * m#kg-m^2\n",
        "\n",
        "\n",
        "\n",
        "\n",
        "\n",
        "stall_torque = 3.87 #N-m\n",
        "stall_current = 185. #amp\n",
        "free_speed = 5180. #rpm (Needs to be in r/s)\n",
        "free_current = 1.2 #amp\n",
        "operating_voltage = 12. #V\n",
        "gear_ratio = 1. / 0.096 #ul\n",
        "\n",
        "free_speed = 2*np.pi*free_speed/60 #r/s\n",
        "\n",
        "k_emf = operating_voltage / free_speed\n",
        "k_magnet = stall_torque / operating_voltage\n",
        "\n",
        "k_emf *= gear_ratio\n",
        "k_magnet *= gear_ratio * 2\n",
        "\n",
        "print(k_emf)\n",
        "print(k_magnet)\n",
        "'''\n",
        "k_emf = 2.\n",
        "k_magnet = 2.'''"
      ],
      "execution_count": null,
      "outputs": [
        {
          "output_type": "stream",
          "text": [
            "0.23043669366587163\n",
            "6.71875\n"
          ],
          "name": "stdout"
        },
        {
          "output_type": "execute_result",
          "data": {
            "application/vnd.google.colaboratory.intrinsic+json": {
              "type": "string"
            },
            "text/plain": [
              "'\\nk_emf = 2.\\nk_magnet = 2.'"
            ]
          },
          "metadata": {
            "tags": []
          },
          "execution_count": 602
        }
      ]
    },
    {
      "cell_type": "markdown",
      "metadata": {
        "id": "pe0tCP5SEfNq"
      },
      "source": [
        "`model` is $f(x, u)$\n",
        "\n",
        "`getWheelVelocity` - returns the angular velocity of wheel (need to clarify which wheel it is)\n",
        "\n",
        "`getWheelTorque` - returns the motor torque of the wheel using `V` (voltage applied) and `vf` (surface velocity of wheel)"
      ]
    },
    {
      "cell_type": "code",
      "metadata": {
        "id": "jm7izghmoU1Y"
      },
      "source": [
        "def model(x, u): #state and input vector: f(x, u)\n",
        "  v = x[3]\n",
        "  left_wheel_torque = getWheelTorque(u[0], getWheelVelocity(v, x[4], False))\n",
        "  right_wheel_torque = getWheelTorque(u[1], getWheelVelocity(v, x[4], True))\n",
        "  dx = np.array([\n",
        "    v * np.cos(x[2] + 0.),\n",
        "    v * np.sin(x[2] + 0.),\n",
        "    x[4],\n",
        "    (left_wheel_torque + right_wheel_torque) / (r_wheel * m),\n",
        "    r_bot * (right_wheel_torque - left_wheel_torque) / (r_wheel * I)\n",
        "  ])\n",
        "\n",
        "  return dx\n",
        "\n",
        "def getWheelVelocity(v, w, direction):\n",
        "  if direction:\n",
        "    return (v + r_bot * w) / r_wheel\n",
        "  return (v - r_bot * w) / r_wheel\n",
        "\n",
        "def getWheelTorque(V, vf):\n",
        "  voltage_eff = V - k_emf * vf #since vf is wheel speed, k_emf needs to account for the gearing. same for k_magnet\n",
        "  return k_magnet * voltage_eff\n"
      ],
      "execution_count": null,
      "outputs": []
    },
    {
      "cell_type": "markdown",
      "metadata": {
        "id": "aEgo8L3DE6Dw"
      },
      "source": [
        "This is just a test to make sure that the above code works. It is assuming the start state is stationary and that the voltage applied is constant.\n",
        "\n",
        "In this example, left motor is applying 12V and right motor is applying 6V which, intuitively, makes the robot travel in a circle"
      ]
    },
    {
      "cell_type": "code",
      "metadata": {
        "id": "D2TUk8tD9wHN"
      },
      "source": [
        "x = np.array([0., 0., 0., 0., 0.])\n",
        "u_const = np.array([12., 6.])\n",
        "\n",
        "output_x = []\n",
        "output_y = []\n",
        "\n",
        "time = []\n",
        "for i in range(0, 600):\n",
        "  time.append(0.01)\n",
        "\n",
        "for i in time:\n",
        "  x = x + model(x, u_const) * 0.01\n",
        "  ans = [x[0], x[1]]\n",
        "  output_x.append(ans[0])\n",
        "  output_y.append(ans[1])\n"
      ],
      "execution_count": null,
      "outputs": []
    },
    {
      "cell_type": "code",
      "metadata": {
        "colab": {
          "base_uri": "https://localhost:8080/",
          "height": 298
        },
        "id": "Q2ikdool_X2R",
        "outputId": "d08d8513-65c2-4ab3-8991-a768d1bfa823"
      },
      "source": [
        "plt.plot(output_x, output_y, linewidth=4, label='trajectory')\n",
        "plt.scatter(output_x[0], output_y[0], c='green', label='start', linewidth=3)\n",
        "plt.scatter(output_x[len(output_x) - 1], output_y[len(output_y) - 1], c='red', label='end', linewidth=3)\n",
        "plt.title('Test of Trajectory', c='white')\n",
        "#plt.xlim(0.9, 1)\n",
        "plt.grid()\n",
        "plt.legend()"
      ],
      "execution_count": null,
      "outputs": [
        {
          "output_type": "execute_result",
          "data": {
            "text/plain": [
              "<matplotlib.legend.Legend at 0x7fbfcff56ba8>"
            ]
          },
          "metadata": {
            "tags": []
          },
          "execution_count": 605
        },
        {
          "output_type": "display_data",
          "data": {
            "image/png": "[encoded data removed]",
            "text/plain": [
              "<Figure size 432x288 with 1 Axes>"
            ]
          },
          "metadata": {
            "tags": [],
            "needs_background": "light"
          }
        }
      ]
    },
    {
      "cell_type": "markdown",
      "metadata": {
        "id": "Bq4v6CxwGc93"
      },
      "source": [
        "`waypoints` - list of points we want the robot to go to. These are the state variables discussed above"
      ]
    },
    {
      "cell_type": "code",
      "metadata": {
        "id": "StcvYM4b_8-1",
        "colab": {
          "base_uri": "https://localhost:8080/",
          "height": 86
        },
        "outputId": "2b5cb023-89ad-4781-9c8b-1dc237e25963"
      },
      "source": [
        "#Galactice Search Path A RED\n",
        "waypoints = [\n",
        "    (np.array([0, 2.286, 0, 0, 0]), 0),\n",
        "    (np.array([2.286, 2.286]), 20),\n",
        "    (np.array([3.81, 1.524]), 40),\n",
        "    (np.array([4.572, 3.81]), 60),\n",
        "    (np.array([9.144, 3.81, 0, 0, 0]), 90),\n",
        "\n",
        "]\n",
        "\n",
        "'''    (np.array([3.81, 1.524]), 240),\n",
        "    (np.array([4.572, 3.81]), 360),\n",
        "    (np.array([9.144, 3.81, 0, 0, 0]), 480),\n",
        "    '''\n",
        "\n",
        "'''#Galactice Search Path A BLUE\n",
        "waypoints = [\n",
        "    (np.array([0, 2.286, 0, 0, 0]), 0),\n",
        "    (np.array([4.572, 0.762]), 150),\n",
        "    (np.array([5.334, 3.048]), 250),\n",
        "    (np.array([6.858, 2.286]), 350),\n",
        "    (np.array([9.144, 2.286, 0, 0, 0]), 550),\n",
        "]'''\n",
        "\n",
        "'''#Galatic Search Path B RED\n",
        "waypoints = [\n",
        "    (np.array([0, 3.048, 0, 0, 0]), 0),\n",
        "    (np.array([2.286, 3.048]), 150),\n",
        "    (np.array([3.81, 1.524]), 250),\n",
        "    (np.array([5.334, 3.048]), 350),\n",
        "    (np.array([9.144, 3.048, 0, 0, 0]), 550),\n",
        "]'''\n",
        "\n",
        "'''#Galatic Search Path B BLUE\n",
        "waypoints = [\n",
        "    (np.array([0, 3.048, 0, 0, 0]), 0),\n",
        "    (np.array([4.572, 1.524]), 150),\n",
        "    (np.array([6.096, 3.048]), 250),\n",
        "    (np.array([7.62, 1.524]), 350),\n",
        "    (np.array([9.144, 1.524, 0, 0, 0]), 550),\n",
        "]'''"
      ],
      "execution_count": null,
      "outputs": [
        {
          "output_type": "execute_result",
          "data": {
            "application/vnd.google.colaboratory.intrinsic+json": {
              "type": "string"
            },
            "text/plain": [
              "'#Galatic Search Path B BLUE\\nwaypoints = [\\n    (np.array([0, 3.048, 0, 0, 0]), 0),\\n    (np.array([4.572, 1.524]), 150),\\n    (np.array([6.096, 3.048]), 250),\\n    (np.array([7.62, 1.524]), 350),\\n    (np.array([9.144, 1.524, 0, 0, 0]), 550),\\n]'"
            ]
          },
          "metadata": {
            "tags": []
          },
          "execution_count": 606
        }
      ]
    },
    {
      "cell_type": "markdown",
      "metadata": {
        "id": "3Vj3q1mEGllQ"
      },
      "source": [
        "`solve` is the actual function which sets everything up and solves for the optimum solution\n",
        "\n",
        "\n",
        "`N` - is the number of intervals\n",
        "\n",
        "`T` - is the time per interval (we use this since we do linear approximation)\n",
        "\n",
        "`u` - empty list in which we will put every value in\n",
        "\n",
        "`x` - same as `u` except it's for all the state variables\n"
      ]
    },
    {
      "cell_type": "markdown",
      "metadata": {
        "id": "LY9oiTxt2UrT"
      },
      "source": [
        "The cost function it is tring to solve is defined as follows:\n",
        "\n",
        "$J(u, x) = l_w + \\int_0^{n+!}{l(x)dt}$ #This is wrong. Will fix later\n",
        "\n",
        "where $l_w$ is the final value and the integral is the value of $l(x))$, our cost function, being compared to our desired waypoints and our torque. Note, we use quadratic costs since they are guaranteed to have a minimum.\n",
        "\n",
        "Obviously, we can't actually compute this definite integral, so we solve it numerically using the approximation $f(n+1) = f(n) + f'(n) * T$ where $T$ is our change in time\n",
        "\n",
        "We also have constraints as follows:\n",
        "  - The starting point must be the same\n",
        "  - The voltage $\\in [-12, 12]$\n",
        "\n",
        "We also have costs we would like to minimize:\n",
        "  - waypoints at current location - desired current location. This is given a lot of weight since we desire this cost a lot\n",
        "  - We are also adding a cost on torque so the robot doesn't move in a way which is hard on the motors\n",
        "\n",
        "We then solve for this function, which takes a majority of the time, and get an output of $x$ and $u$."
      ]
    },
    {
      "cell_type": "code",
      "metadata": {
        "id": "n1DNkVCCRm4K"
      },
      "source": [
        "\n",
        "#Note in the future may need to make all/some of waypoints constraints since intake can't even handle a few inches of error\n",
        "\n",
        "def solve():\n",
        "\n",
        "  #N = waypoints[-1, 1] + 1\n",
        "  N = waypoints[-1][1] + 1\n",
        "  T = 0.04 #Frequency robot runs at\n",
        "  prog = MathematicalProgram()\n",
        "\n",
        "  u = np.empty((2, N-1), dtype=Variable)\n",
        "  x = np.empty((5, N), dtype=Variable)\n",
        "  curvature = np.empty((1, N), dtype=Variable)\n",
        "\n",
        "  for n in range(N-1):\n",
        "    u[:,n] = prog.NewContinuousVariables(2, 'u' + str(n))\n",
        "    x[:,n] = prog.NewContinuousVariables(5, 'x' + str(n))\n",
        "    curvature[0,n] = prog.NewContinuousVariables(1, 'c' + str(n))\n",
        "\n",
        "    prog.SetInitialGuess(u[:,n], np.zeros_like(u[:,n]))\n",
        "    prog.SetInitialGuess(x[:,n], np.zeros_like(x[:,n]))\n",
        "  x[:,N-1] = prog.NewContinuousVariables(5, 'x' + str(N))\n",
        "  prog.SetInitialGuess(u, np.ones((2,N-1))*12)\n",
        "\n",
        "  prog.AddBoundingBoxConstraint(waypoints[0][0], waypoints[0][0], x[:,waypoints[0][1]])\n",
        "\n",
        "  for n in range(0, N-1):\n",
        "    prog.AddConstraint(eq(x[:,n+1], x[:,n]+model(x[:,n], u[:,n])*T))\n",
        "    prog.AddBoundingBoxConstraint(-12, 12, u[:,n]) \n",
        "    prog.AddConstraint(eq(x[4, n], x[3, n] * curvature[0, n]))\n",
        "\n",
        "    prog.AddQuadraticCost(100*(curvature[0,n].dot(curvature[0,n])))\n",
        "\n",
        "    v = x[3,n]\n",
        "    torque = np.array([getWheelTorque(u[0,n], getWheelVelocity(x[3,n], x[4,n], False)), getWheelTorque(u[1,n], getWheelVelocity(x[3,n], x[4,n], True))])\n",
        "    #prog.AddQuadraticCost(torque.dot(torque)) UNCOMMENT LATER\n",
        "\n",
        "  '''for w in range(len(waypoints)):\n",
        "\n",
        "    w_ts = waypoints[w][1] #waypoints time stamp\n",
        "    w_at_w = waypoints[w][0] #waypoint at w\n",
        "\n",
        "    #dot_expression = x[:, w_ts] - w_at_w\n",
        "    dot_expression = x[:len(w_at_w), w_ts] - w_at_w\n",
        "\n",
        "    prog.AddQuadraticCost(10000000*(dot_expression.dot(dot_expression))) # huge weight to minimize waypoint error'''\n",
        "\n",
        "  for i in range(len(waypoints)):\n",
        "    prog.AddBoundingBoxConstraint(waypoints[i][0], waypoints[i][0], x[:len(waypoints[i][0]),waypoints[i][1]])\n",
        "\n",
        "  \n",
        "    \n",
        "  result = Solve(prog)\n",
        "\n",
        "  x_sol = result.GetSolution(x)\n",
        "  u_sol = result.GetSolution(u)\n",
        "\n",
        "  assert(result.is_success()), \"Optimization failed\"\n",
        "\n",
        "  return x_sol, u_sol, N, T\n",
        "\n",
        "  print(x_sol)\n",
        "  print(u_sol)"
      ],
      "execution_count": null,
      "outputs": []
    },
    {
      "cell_type": "code",
      "metadata": {
        "id": "qF0qnTOBRqy8"
      },
      "source": [
        "x_sol, u_sol, N, T = solve()"
      ],
      "execution_count": null,
      "outputs": []
    },
    {
      "cell_type": "markdown",
      "metadata": {
        "id": "-1oUtWFvG9uH"
      },
      "source": [
        "Here we are splitting `x_sol` into it's x and y parts (note: it has more information but for a graph, this is enough)"
      ]
    },
    {
      "cell_type": "code",
      "metadata": {
        "id": "aopOYEmqRrYf",
        "colab": {
          "base_uri": "https://localhost:8080/",
          "height": 322
        },
        "outputId": "6abbf329-e3b3-4fb4-bb9e-9308aae45127"
      },
      "source": [
        "x_coords = []\n",
        "y_coords = []\n",
        "theta = []\n",
        "velocity = []\n",
        "angular_velocity = []\n",
        "\n",
        "for i in range(N):\n",
        "  x_coords.append((float)(\"%.4f\" % (3.28084 * x_sol[0,i])))\n",
        "  y_coords.append((float)(\"%.4f\" % (3.28084 * x_sol[1,i])))\n",
        "  theta.append(x_sol[2,i])\n",
        "  velocity.append(x_sol[3,i])\n",
        "  angular_velocity.append(x_sol[4,i])\n",
        "#print(x_coords)\n",
        "#print(y_coords)\n",
        "\n",
        "x_points = []\n",
        "y_points = []\n",
        "for i in range(len(waypoints)):\n",
        "  x_points.append(3.28084 * waypoints[i][0][0])\n",
        "  y_points.append(3.28084 * waypoints[i][0][1])\n",
        "\n",
        "\n",
        "#print(u_sol)\n",
        "plt.plot(x_coords, y_coords, linewidth=2, label='trajectory')\n",
        "plt.title('Robot Trajectory in terms of x and y', c='white', fontsize=20)\n",
        "plt.xlabel(\"x position of robot\", c='white', fontsize=15) \n",
        "plt.ylabel(\"y position of robot\", c='white', fontsize=15) \n",
        "plt.scatter(x_points, y_points)\n",
        "print(\"Time taken: \" + str(T * waypoints[-1][1]) + \" seconds\")\n",
        "plt.xlim(0, 30)\n",
        "plt.ylim(0, 15)\n",
        "plt.legend()\n",
        "plt.grid()"
      ],
      "execution_count": null,
      "outputs": [
        {
          "output_type": "stream",
          "text": [
            "Time taken: 3.6 seconds\n"
          ],
          "name": "stdout"
        },
        {
          "output_type": "display_data",
          "data": {
            "image/png": "[encoded data removed]",
            "text/plain": [
              "<Figure size 432x288 with 1 Axes>"
            ]
          },
          "metadata": {
            "tags": [],
            "needs_background": "light"
          }
        }
      ]
    },
    {
      "cell_type": "markdown",
      "metadata": {
        "id": "0SyCxL7-HIGq"
      },
      "source": [
        "This is doing the same thing but now for `u_sols`. It graphs the voltage each motor needs to apply at each time interval"
      ]
    },
    {
      "cell_type": "code",
      "metadata": {
        "id": "NXoKmnelj3Ep",
        "colab": {
          "base_uri": "https://localhost:8080/",
          "height": 305
        },
        "outputId": "0d5981c6-9776-460e-a014-3cd4fe239b92"
      },
      "source": [
        "left = []\n",
        "right = []\n",
        "\n",
        "for i in range(N-1):\n",
        "  left.append((float)(\"%.4f\" % u_sol[0, i]))\n",
        "  right.append((float)(\"%.4f\" % u_sol[1, i]))\n",
        "\n",
        "time = []\n",
        "for i in range(N-1):\n",
        "  time.append(i * T)\n",
        "\n",
        "plt.plot(time, left, label=\"Left Motor\", linewidth=2)\n",
        "plt.plot(time, right, label=\"Right Motor\", linewidth=2)\n",
        "\n",
        "\n",
        "plt.title(\"Voltage each motor must apply\", fontsize=20, c='white')\n",
        "plt.xlabel('Time', fontsize=15, c='white')\n",
        "plt.ylabel('Voltage', fontsize=15, c='white')\n",
        "plt.legend()\n",
        "plt.grid()\n"
      ],
      "execution_count": null,
      "outputs": [
        {
          "output_type": "display_data",
          "data": {
            "image/png": "[encoded data removed]",
            "text/plain": [
              "<Figure size 432x288 with 1 Axes>"
            ]
          },
          "metadata": {
            "tags": [],
            "needs_background": "light"
          }
        }
      ]
    },
    {
      "cell_type": "code",
      "metadata": {
        "id": "pgke5PG4rB3U",
        "colab": {
          "base_uri": "https://localhost:8080/",
          "height": 279
        },
        "outputId": "5a9a9198-0adb-4929-afc0-e0b719733763"
      },
      "source": [
        "fig, ((ax1, ax2), (ax3, ax4)) = plt.subplots(2, 2, sharex=False, sharey=False)\n",
        "\n",
        "ax1.plot(time, left, label=\"Left Motor\", linewidth=2)\n",
        "ax1.plot(time, right, label=\"Right Motor\", linewidth=2)\n",
        "\n",
        "time_2 = time.copy()\n",
        "time_2.append((N-1) * T)\n",
        "ax2.plot(time_2, theta)\n",
        "\n",
        "ax3.plot(time_2, velocity)\n",
        "\n",
        "ax4.plot(time_2, angular_velocity)\n",
        "\n",
        "\n",
        "#ax1.title(\"Voltage each motor must apply\", fontsize=20, c='white')\n",
        "ax1.set(xlabel='Time', ylabel='Voltage')\n",
        "ax2.set(xlabel='Time', ylabel='Theta')\n",
        "ax3.set(xlabel='Time', ylabel='Velocity')\n",
        "ax4.set(xlabel='Time', ylabel='Angular Velocity')\n",
        "#ax1.xlabel('Time', fontsize=15, c='white')\n",
        "#ax1.ylabel('Voltage', fontsize=15, c='white')\n",
        "ax1.legend()\n",
        "ax1.grid()\n"
      ],
      "execution_count": null,
      "outputs": [
        {
          "output_type": "display_data",
          "data": {
            "image/png": "[encoded data removed]",
            "text/plain": [
              "<Figure size 432x288 with 4 Axes>"
            ]
          },
          "metadata": {
            "tags": [],
            "needs_background": "light"
          }
        }
      ]
    },
    {
      "cell_type": "code",
      "metadata": {
        "id": "qx4tjc0zHOpB"
      },
      "source": [
        "with open('waypoints.txt', 'w') as writefile:\n",
        "    for i in range(len(x_coords)):\n",
        "      writefile.write((str)(x_coords[i]) + \", \" + (str)(y_coords[i])  + \", \" + (\"%.2f\" % (T*i)) + \"\\n\")\n",
        "      #print((str)(x_coords[i]) + \", \" + (str)(y_coords[i])  + \", \" + (str)(\"%.2f\" % (T*i)) + \"\\n\")\n",
        "    \n",
        "with open('voltages.txt', 'w') as writefile:\n",
        "    for i in range(len(left)):\n",
        "      writefile.write((str)(left[i]) + \", \" + (str)(right[i])  + \", \" + \"\\n\")"
      ],
      "execution_count": null,
      "outputs": []
    },
    {
      "cell_type": "code",
      "metadata": {
        "id": "pD8ynvWze_VC"
      },
      "source": [
        ""
      ],
      "execution_count": null,
      "outputs": []
    }
  ]
}