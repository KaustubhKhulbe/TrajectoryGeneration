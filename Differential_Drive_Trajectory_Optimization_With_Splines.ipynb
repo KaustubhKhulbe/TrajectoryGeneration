{
  "nbformat": 4,
  "nbformat_minor": 0,
  "metadata": {
    "colab": {
      "name": "Differential Drive Trajectory Optimization With Splines",
      "provenance": [],
      "collapsed_sections": [],
      "toc_visible": true
    },
    "kernelspec": {
      "display_name": "Python 3",
      "name": "python3"
    }
  },
  "cells": [
    {
      "cell_type": "markdown",
      "metadata": {
        "id": "nbIV8mRzocE-"
      },
      "source": [
        "#Differential Drive Trajectory Optimization\n",
        "##Steps:\n",
        "1) Generate the required model of our differential drive\n",
        "\n",
        "2) Test the model and make sure it behaves accurately\n",
        "\n",
        "3) Implement the model using `drake` which is a Non Linear Program Solver\n",
        "\n",
        "4) Graph everything"
      ]
    },
    {
      "cell_type": "markdown",
      "metadata": {
        "id": "G6W7BHniPC1L"
      },
      "source": [
        "Import Statements"
      ]
    },
    {
      "cell_type": "code",
      "metadata": {
        "id": "G79Izr7V7uQM"
      },
      "source": [
        "import numpy as np\n",
        "import matplotlib.pyplot as plt"
      ],
      "execution_count": 944,
      "outputs": []
    },
    {
      "cell_type": "code",
      "metadata": {
        "id": "zWpnaYrSP7tl"
      },
      "source": [
        "try:\n",
        "  import pydrake\n",
        "  import underactuated\n",
        "except ImportError:\n",
        "  !curl -s https://raw.githubusercontent.com/RussTedrake/underactuated/master/scripts/setup/jupyter_setup.py > jupyter_setup.py\n",
        "  from jupyter_setup import setup_underactuated\n",
        "  setup_underactuated()"
      ],
      "execution_count": 945,
      "outputs": []
    },
    {
      "cell_type": "markdown",
      "metadata": {
        "id": "L063_snTBWCQ"
      },
      "source": [
        "Constants:\n",
        "\n",
        "`m` - mass of robot\n",
        "\n",
        "`I` - moment of inertia of robot\n",
        "\n",
        "`r_bot` - radius of bot (width between wheels / 2)\n",
        "\n",
        "`r_wheel` - radius of wheel\n",
        "\n",
        "`k_emf` - emf constant of motor (must take into account gear ratio)\n",
        "\n",
        "`k_magnet` - constant of magnet (must take into account gear ratio)\n",
        "\n",
        "Input vector:\n",
        "\n",
        "$ \\mathbf{u} = \\begin{bmatrix}\n",
        "V_L \\\\\n",
        "V_R\n",
        "\\end{bmatrix} $\n",
        "\n",
        "State vector:\n",
        "\n",
        "$ \\mathbf{x} = \\begin{bmatrix}\n",
        "x \\\\ \n",
        "y \\\\\n",
        "\\theta \\\\\n",
        "v \\\\\n",
        "\\omega \\\\\n",
        "\\end{bmatrix} $\n",
        "\n",
        "\n",
        "$f(x, u)$ returns the derivative of x based on the input voltages\n",
        "\n",
        "$f(x, u) = \\mathbf{\\dot{x}} = \\begin{bmatrix} \\dot{x} \\\\ \\dot{y} \\\\ \\dot{\\theta}\\\\ \\dot{v} \\\\ \\dot{\\omega} \\end{bmatrix} = \\begin{bmatrix} v*cos(\\theta) \\\\ v*sin(\\theta) \\\\ \\omega \\\\ (\\tau(V_r) + \\tau(V_l)) / (r * r_{wheel} * m) \\\\ r_{wheelbase} * (\\tau(V_r) - \\tau(V_l)) / r_{wheel} \\end{bmatrix}$\n",
        "\n",
        "where $T(V)$ is a function of torque depending on $V_{applied}$"
      ]
    },
    {
      "cell_type": "code",
      "metadata": {
        "id": "csmgoWU-pVhW",
        "colab": {
          "base_uri": "https://localhost:8080/",
          "height": 69
        },
        "outputId": "2cea2453-5384-43b9-fdbb-3d0736e7947d"
      },
      "source": [
        "from pydrake.all import ge, eq, le, ge, MathematicalProgram, Solve, Variable\n",
        "\n",
        "#Robot constants\n",
        "m = 68.03 #kg\n",
        "r_bot = 0.5 #m\n",
        "r_wheel = 0.0762 #m\n",
        "I = (1/12.) * (2 * (2*r_bot) ** 2) * m#kg-m^2\n",
        "\n",
        "#Motor constants\n",
        "stall_torque = 3.87 #N-m\n",
        "stall_current = 185. #amp\n",
        "free_speed = 5180. #rpm (Needs to be in r/s)\n",
        "free_current = 1.2 #amp\n",
        "operating_voltage = 12. #V\n",
        "#gear_ratio = 1. / 0.096 #ul\n",
        "gear_ratio = 1. / 0.1117 #ul\n",
        "\n",
        "#Intermediate calculations\n",
        "free_speed = 2*np.pi*free_speed/60 #r/s\n",
        "k_emf = operating_voltage / free_speed\n",
        "k_magnet = stall_torque / operating_voltage\n",
        "k_emf *= gear_ratio\n",
        "k_magnet *= gear_ratio * 2\n",
        "\n",
        "print(k_emf)\n",
        "print(k_magnet)\n",
        "'''\n",
        "k_emf = 2.\n",
        "k_magnet = 2.'''"
      ],
      "execution_count": 946,
      "outputs": [
        {
          "output_type": "stream",
          "text": [
            "0.19804765077818873\n",
            "5.7743957027752915\n"
          ],
          "name": "stdout"
        },
        {
          "output_type": "execute_result",
          "data": {
            "application/vnd.google.colaboratory.intrinsic+json": {
              "type": "string"
            },
            "text/plain": [
              "'\\nk_emf = 2.\\nk_magnet = 2.'"
            ]
          },
          "metadata": {
            "tags": []
          },
          "execution_count": 946
        }
      ]
    },
    {
      "cell_type": "markdown",
      "metadata": {
        "id": "pe0tCP5SEfNq"
      },
      "source": [
        "`model` is $f(x, u)$\n",
        "\n",
        "`getWheelVelocity` - returns the angular velocity of wheel (need to clarify which wheel it is)\n",
        "\n",
        "`getWheelTorque` - returns the motor torque of the wheel using `V` (voltage applied) and `vf` (surface velocity of wheel)"
      ]
    },
    {
      "cell_type": "code",
      "metadata": {
        "id": "jm7izghmoU1Y"
      },
      "source": [
        "def model(x, u): #state and input vector: f(x, u)\n",
        "  v = x[3]\n",
        "  left_wheel_torque = getWheelTorque(u[0], getWheelVelocity(v, x[4], False))\n",
        "  right_wheel_torque = getWheelTorque(u[1], getWheelVelocity(v, x[4], True))\n",
        "  dx = np.array([\n",
        "    v * np.cos(x[2] + 0.),\n",
        "    v * np.sin(x[2] + 0.),\n",
        "    x[4],\n",
        "    (left_wheel_torque + right_wheel_torque) / (r_wheel * m),\n",
        "    r_bot * (right_wheel_torque - left_wheel_torque) / (r_wheel * I)\n",
        "  ])\n",
        "\n",
        "  return dx\n",
        "\n",
        "def getWheelVelocity(v, w, direction):\n",
        "  if direction:\n",
        "    return (v + r_bot * w) / r_wheel\n",
        "  return (v - r_bot * w) / r_wheel\n",
        "\n",
        "def getWheelTorque(V, vf):\n",
        "  voltage_eff = V - k_emf * vf #since vf is wheel speed, k_emf needs to account for the gearing. same for k_magnet\n",
        "  return k_magnet * voltage_eff\n"
      ],
      "execution_count": 947,
      "outputs": []
    },
    {
      "cell_type": "markdown",
      "metadata": {
        "id": "aEgo8L3DE6Dw"
      },
      "source": [
        "This is just a test to make sure that the above code works. It is assuming the start state is stationary and that the voltage applied is constant.\n",
        "\n",
        "In this example, left motor is applying 12V and right motor is applying 6V which, intuitively, makes the robot travel in a circle"
      ]
    },
    {
      "cell_type": "code",
      "metadata": {
        "id": "D2TUk8tD9wHN"
      },
      "source": [
        "x = np.array([0., 0., 0., 0., 0.])\n",
        "u_const = np.array([12., 6.])\n",
        "\n",
        "output_x = []\n",
        "output_y = []\n",
        "\n",
        "time = []\n",
        "for i in range(0, 600):\n",
        "  time.append(0.01)\n",
        "\n",
        "for i in time:\n",
        "  x = x + model(x, u_const) * 0.01\n",
        "  ans = [x[0], x[1]]\n",
        "  output_x.append(ans[0])\n",
        "  output_y.append(ans[1])\n"
      ],
      "execution_count": 948,
      "outputs": []
    },
    {
      "cell_type": "code",
      "metadata": {
        "colab": {
          "base_uri": "https://localhost:8080/",
          "height": 298
        },
        "id": "Q2ikdool_X2R",
        "outputId": "d875b71c-1b34-4b2b-8064-d017d965c757"
      },
      "source": [
        "plt.plot(output_x, output_y, linewidth=4, label='trajectory')\n",
        "plt.scatter(output_x[0], output_y[0], c='green', label='start', linewidth=3)\n",
        "plt.scatter(output_x[len(output_x) - 1], output_y[len(output_y) - 1], c='red', label='end', linewidth=3)\n",
        "plt.title('Test of Trajectory', c='white')\n",
        "plt.grid()\n",
        "plt.legend()"
      ],
      "execution_count": 949,
      "outputs": [
        {
          "output_type": "execute_result",
          "data": {
            "text/plain": [
              "<matplotlib.legend.Legend at 0x7f29e7fb8210>"
            ]
          },
          "metadata": {
            "tags": []
          },
          "execution_count": 949
        },
        {
          "output_type": "display_data",
          "data": {
            "image/png": "[encoded data removed]",
            "text/plain": [
              "<Figure size 432x288 with 1 Axes>"
            ]
          },
          "metadata": {
            "tags": [],
            "needs_background": "light"
          }
        }
      ]
    },
    {
      "cell_type": "markdown",
      "metadata": {
        "id": "Bq4v6CxwGc93"
      },
      "source": [
        "`waypoints` - list of points we want the robot to go to. These are the state variables discussed above"
      ]
    },
    {
      "cell_type": "markdown",
      "metadata": {
        "id": "Ia39s5dlEnO_"
      },
      "source": [
        "##This is the section where we use Splines as an initial guess"
      ]
    },
    {
      "cell_type": "code",
      "metadata": {
        "id": "13c2Z4hXEr-g"
      },
      "source": [
        "'''input = [0, 2.286, 3.81, 4.572, 9.144]\n",
        "output = [2.286, 2.286, 1.524, 3.81, 3.81]'''\n",
        "'''input = [0, 4.572, 5.334, 6.868, 9.144]\n",
        "output = [2.286, 0.762, 3.048, 2.286, 2.286]'''\n",
        "'''input = [1.143, 3.81, 6.858, 5.08, 8.128, 6.858, 3.81, 1.524]\n",
        "output = [2.286, 1.143, 3.048, 3.048, 1.524, 2.286, 3.048, 2.286]'''\n",
        "input = [1.143, 2.282, 3.048, 4.572, 6.096, 7.62, 8.763, 7.62, 6.096, 4.572, 3.048, 1.143]\n",
        "output = [0.762, 1.524, 2.08, 2.58, 2, 0.762, 1.524, 2.286, 1, 0.5, 1, 2.286] #Helix path\n",
        "\n",
        "N = len(input)\n",
        "n = N - 1"
      ],
      "execution_count": 950,
      "outputs": []
    },
    {
      "cell_type": "code",
      "metadata": {
        "id": "kr0i7jrEEweB"
      },
      "source": [
        "def getSpline(time, values):\n",
        "  a = [None] * N\n",
        "  for i in range(0, len(time)):\n",
        "    a[i] = (values[i])\n",
        "  print(len(a) == len(time))\n",
        "\n",
        "  b = [None] * (n)\n",
        "  d = [None] * (n)\n",
        "  h = [None] * (n)\n",
        "  \n",
        "  for i in range(0, n):\n",
        "    h[i] = time[i+1] - time[i]\n",
        "\n",
        "  alpha = [None] * (n)\n",
        "  for i in range(1, n):\n",
        "   alpha[i] = (3/h[i]) * (a[i+1] - a[i]) - (3/h[i-1]) * (a[i] - a[i-1])\n",
        "\n",
        "  c = [None] * N\n",
        "  l = [None] * N\n",
        "  u = [None] * N\n",
        "  z = [None] * N\n",
        "\n",
        "  l[0] = 1\n",
        "  u[0] = 0\n",
        "  z[0] = 0\n",
        "\n",
        "  for i in range(1, n):\n",
        "    l[i] = 2 * (time[i+1] - time[i-1]) - h[i-1] * u[i-1]\n",
        "    u[i] = h[i] / l[i]\n",
        "    z[i] = (alpha[i] - h[i-1]*z[i-1]) / l[i]\n",
        "\n",
        "  l[n] = 1\n",
        "  z[n] = 0\n",
        "  c[n] = 0\n",
        "\n",
        "  for j in range(n-1, -1, -1):\n",
        "    c[j] = z[j] - u[j]*c[j+1]\n",
        "    b[j] = (a[j+1]-a[j])/h[j] - (h[j] * (c[j+1] + 2*c[j]))/3\n",
        "    d[j] = (c[j+1] - c[j])/(3*h[j])\n",
        "\n",
        "  print(a)\n",
        "  print(b)\n",
        "  print(c)\n",
        "  print(d)\n",
        "\n",
        "  return a, b, c, d\n"
      ],
      "execution_count": 951,
      "outputs": []
    },
    {
      "cell_type": "code",
      "metadata": {
        "colab": {
          "base_uri": "https://localhost:8080/"
        },
        "id": "hl-OACrTEy0j",
        "outputId": "cc87d51d-d05c-42ef-9916-6ff8deb5bee3"
      },
      "source": [
        "time = [None] * len(input)\n",
        "for i in range(0, len(time)):\n",
        "  time[i] = i\n",
        "\n",
        "ax, bx, cx, dx = getSpline(time, input)\n",
        "\n",
        "ay, by, cy, dy = getSpline(time, output)"
      ],
      "execution_count": 952,
      "outputs": [
        {
          "output_type": "stream",
          "text": [
            "True\n",
            "[1.143, 2.282, 3.048, 4.572, 6.096, 7.62, 8.763, 7.62, 6.096, 4.572, 3.048, 1.143]\n",
            "[1.2930843127289855, 0.8308313745420288, 1.098590189102899, 1.6448078690463752, 1.4661783347116, 1.6344787921072248, -0.0030935031404999425, -1.622104779545225, -1.5094873786785996, -1.483945705740377, -1.6987297983598924]\n",
            "[0.0, -0.4622529381869566, 0.7300117527478267, -0.18379407280435048, 0.005164538469575208, 0.16313591892604962, -1.8007082141737745, 0.18169693776904947, -0.06907953690242397, 0.09462120984064638, -0.30940530246016157, 0]\n",
            "[-0.15408431272898554, 0.3974215636449278, -0.3046019418507257, 0.06298620375797523, 0.052657126818824805, -0.6546147110332746, 0.6608017173142746, -0.08359215822382449, 0.054566915581023445, -0.13467550410026932, 0.10313510082005385]\n",
            "True\n",
            "[0.762, 1.524, 2.08, 2.58, 2, 0.762, 1.524, 2.286, 1, 0.5, 1, 2.286]\n",
            "[0.8280178283358626, 0.6299643433282748, 0.6061247983510384, 0.11353646326757205, -1.3002706514213265, -0.36645385758226645, 1.3380860817503928, -0.4138904694193042, -1.254524204073176, 0.07398728571200897, 0.9585750612251402]\n",
            "[0.0, -0.1980534850075878, 0.17421394003035134, -0.6668022751138177, -0.7470048395750806, 1.6808216334141404, 0.02371830591851881, -1.7756948570882156, 0.9350611224343436, 0.3934503673508417, 0.49113740816228957, 0]\n",
            "[-0.0660178283358626, 0.12408914167931305, -0.28033873838138973, -0.02673418815375428, 0.8092754909964069, -0.5523677758318738, -0.5998043876689115, 0.9035853265075198, -0.18053691836116728, 0.03256234693714929, -0.16371246938742987]\n"
          ],
          "name": "stdout"
        }
      ]
    },
    {
      "cell_type": "code",
      "metadata": {
        "id": "CN1KKdgUE2d8",
        "colab": {
          "base_uri": "https://localhost:8080/"
        },
        "outputId": "919f3ef5-4806-493d-92a6-92812b623ef5"
      },
      "source": [
        "  t_2 = np.linspace(0, 1, 100)\n",
        "  t_vals = []\n",
        "  x_vals = []\n",
        "  y_vals = []\n",
        "\n",
        "  for i in range(0, n):\n",
        "    for j in t_2:\n",
        "      t = j\n",
        "      x = ax[i] + bx[i] * t + cx[i] * t**2 + dx[i] * t**3\n",
        "      x_vals.append(x)\n",
        "      \n",
        "      y = ay[i] + by[i] * t + cy[i] * t**2 + dy[i] * t**3\n",
        "      y_vals.append(y)\n",
        "\n",
        "      t_vals.append(t + time[i])\n",
        "  print(x_vals)\n"
      ],
      "execution_count": 953,
      "outputs": [
        {
          "output_type": "stream",
          "text": [
            "[1.143, 1.1560612989034762, 1.1691216450018105, 1.182180085489861, 1.195235667562486, 1.2082874384145432, 1.221334445240891, 1.2343757352363873, 1.2474103555958904, 1.2604373535142588, 1.2734557761863496, 1.2864646708070218, 1.299463084571133, 1.3124500646735415, 1.3254246583091054, 1.338385912672683, 1.3513328749591318, 1.3642645923633105, 1.377180112080077, 1.3900784813042895, 1.402958747230806, 1.4158199570544847, 1.4286611579701836, 1.4414813971727607, 1.4542797218570744, 1.4670551792179827, 1.4798068164503435, 1.4925336807490153, 1.5052348193088558, 1.5179092793247233, 1.5305561079914758, 1.5431743525039716, 1.5557630600570689, 1.5683212778456255, 1.5808480530644995, 1.593342432908549, 1.6058034645726327, 1.6182301952516078, 1.6306216721403333, 1.6429769424336664, 1.6552950533264656, 1.6675750520135895, 1.6798159856898958, 1.6920169015502422, 1.7041768467894873, 1.7162948686024893, 1.728370014184106, 1.7404013307291955, 1.752387865432616, 1.7643286654892256, 1.7762227780938826, 1.788069250441445, 1.7998671297267705, 1.8116154631447179, 1.8233132978901447, 1.8349596811579094, 1.84655366014287, 1.8580942820398845, 1.869580594043811, 1.8810116433495079, 1.8923864771518328, 1.9037041426456445, 1.9149636870258004, 1.926164157487159, 1.9373046012245785, 1.9483840654329168, 1.9594015973070318, 1.970356244041782, 1.9812470528320254, 1.9920730708726195, 2.0028333453584235, 2.013526923484295, 2.024152852445092, 2.034710179435673, 2.0451979516508954, 2.0556152162856174, 2.0659610205346977, 2.0762344115929943, 2.086434436655365, 2.0965601429166676, 2.1066105775717614, 2.116584787815503, 2.1264818208427516, 2.1363007238483656, 2.1460405440272017, 2.1557003285741185, 2.165279124683975, 2.174775979551628, 2.184189940371937, 2.193520054339759, 2.2027653686499526, 2.2119249304973763, 2.220997787076887, 2.2299829855833435, 2.2388795732116047, 2.2476865971565267, 2.25640310461297, 2.265028142775791, 2.273560758839848, 2.282, 2.282, 2.29034548183866, 2.298599093488461, 2.3067632924695927, 2.3148405363022437, 2.3228332825066036, 2.330743988602861, 2.3385751121112053, 2.346329110551825, 2.3540084414449094, 2.3616155623106465, 2.369152930669227, 2.376623004040839, 2.384028239945672, 2.3913710959039145, 2.398654029435755, 2.4058794980613833, 2.413049959300988, 2.420167870674759, 2.427235689702884, 2.4342558739055535, 2.441230880802955, 2.448163167915278, 2.4550551927627122, 2.461909412865445, 2.4687282857436674, 2.4755142689175673, 2.4822698199073336, 2.488997396233156, 2.4956994554152225, 2.502378454973723, 2.5090368524288453, 2.5156771053007803, 2.5223016711097155, 2.52891300737584, 2.535513571619344, 2.542105821360416, 2.548692214119243, 2.555275207416017, 2.5618572587709254, 2.5684408257041578, 2.5750283657359025, 2.5816223363863493, 2.5882251951756863, 2.5948393996241026, 2.6014674072517883, 2.6081116755789315, 2.6147746621257215, 2.621458824412348, 2.6281666199589977, 2.6349005062858617, 2.6416629409131285, 2.648456381360987, 2.6552832851496264, 2.662146109799236, 2.6690473128300036, 2.675989351762119, 2.6829746841157713, 2.690005767411149, 2.6970850591684417, 2.7042150169078383, 2.7113980981495276, 2.7186367604136987, 2.725933461220541, 2.7332906580902416, 2.740710808542992, 2.74819637009898, 2.755749800278395, 2.7633735566014255, 2.7710700965882613, 2.77884187775909, 2.786691357634102, 2.794620993733486, 2.8026332435774304, 2.810730564686125, 2.8189154145797577, 2.8271902507785183, 2.835557530802596, 2.8440197121721797, 2.852579252407458, 2.86123860902862, 2.8700002395558557, 2.878866601509352, 2.8878401524093, 2.896923349775887, 2.906118651129303, 2.915428513989738, 2.924855395877379, 2.9344017543124155, 2.944070046815037, 2.953862730905432, 2.9637822641037905, 2.973831103930301, 2.9840117079051516, 2.9943265335485325, 3.0047780383806324, 3.0153686799216404, 3.0261009156917447, 3.036977203211135, 3.048, 3.048, 3.0591710400659773, 3.0704891633664966, 3.0819524863464367, 3.0935591254506742, 3.1053071971240898, 3.11719481781156, 3.129220103957963, 3.141381172008178, 3.1536761384070817, 3.166103119599554, 3.178660232030473, 3.191345592144715, 3.2041573163871604, 3.217093521202687, 3.230152323036172, 3.243331838332494, 3.2566301835365317, 3.270045475093163, 3.2835758294472663, 3.2972193630437197, 3.310974192327402, 3.3248384337431904, 3.3388102037359637, 3.3528876187505996, 3.367068795231977, 3.381351849624974, 3.3957348983744686, 3.410216057925339, 3.424793444722464, 3.439465175210721, 3.4542293658349883, 3.469084133040145, 3.484027593271068, 3.4990578629726374, 3.514173058589729, 3.529371296567223, 3.5446506933499973, 3.5600093653829292, 3.5754454291108977, 3.5909570009787806, 3.6065421974314567, 3.622199134913804, 3.6379259298706996, 3.6537206987470237, 3.669581557987653, 3.685506624037466, 3.7014940133413416, 3.717541842344157, 3.7336482274907916, 3.7498112852261234, 3.7660291319950296, 3.7822998842423896, 3.7986216584130807, 3.8149925709519814, 3.831410738303971, 3.8478742769139256, 3.8643813032267254, 3.8809299336872476, 3.89751828474037, 3.9141444728309724, 3.9308066144039318, 3.947502825904127, 3.9642312237764354, 3.980989924465736, 3.997777044416907, 4.014590700074826, 4.031429007884372, 4.048290084290422, 4.065172045737857, 4.082073008671552, 4.098991089536386, 4.115924404777239, 4.132871070838987, 4.14982920416651, 4.166796921204686, 4.1837723383983905, 4.200753572192506, 4.217738739031907, 4.234725955361474, 4.251713337626085, 4.268699002270617, 4.28568106573995, 4.302657644478961, 4.319626854932528, 4.336586813545529, 4.353535636762844, 4.37047144102935, 4.387392342789925, 4.404296458489448, 4.421181904572796, 4.438046797484848, 4.4548892536704825, 4.471707389574579, 4.488499321642013, 4.505263166317664, 4.52199704004641, 4.538699059273128, 4.555367340442699, 4.572000000000001, 4.572, 4.5885955332299835, 4.605153950777901, 4.621675642129079, 4.638160996768844, 4.654610404182522, 4.671024253855438, 4.68740293527292, 4.703746837920294, 4.720056351282886, 4.736331864846021, 4.7525737680950275, 4.76878245051523, 4.7849583015919555, 4.80110171081053, 4.8172130676562785, 4.833292761614529, 4.849341182170607, 4.86535871880984, 4.88134576101755, 4.897302698279069, 4.913229920079719, 4.929127815904828, 4.944996775239723, 4.960837187569728, 4.976649442380171, 4.992433929156377, 5.008191037383674, 5.023921156547385, 5.039624676132839, 5.055301985625362, 5.07095347451028, 5.086579532272918, 5.102180548398604, 5.117756912372662, 5.133309013680421, 5.148837241807206, 5.164341986238342, 5.179823636459156, 5.1952825819549755, 5.210719212211125, 5.226133916712932, 5.241527084945721, 5.25689910639482, 5.272250370545555, 5.287581266883251, 5.302892184893236, 5.318183514060835, 5.333455643871374, 5.3487089638101795, 5.363943863362579, 5.379160732013896, 5.394359959249459, 5.4095419345545945, 5.424707047414627, 5.439855687314884, 5.45498824374069, 5.470105106177374, 5.485206664110259, 5.500293307024674, 5.515365424405944, 5.530423405739396, 5.545467640510355, 5.560498518204148, 5.575516428306101, 5.590521760301539, 5.605514903675791, 5.62049624791418, 5.635466182502036, 5.650425096924682, 5.665373380667446, 5.680311423215652, 5.695239614054629, 5.710158342669702, 5.725067998546198, 5.739968971169441, 5.754861650024759, 5.7697464245974786, 5.784623684372925, 5.7994938188364245, 5.814357217473304, 5.829214269768888, 5.844065365208505, 5.85891089327748, 5.87375124346114, 5.8885868052448105, 5.903417968113818, 5.918245121553488, 5.933068655049148, 5.947888958086123, 5.962706420149741, 5.977521430725324, 5.992334379298205, 6.007145655353704, 6.021955648377151, 6.036764747853869, 6.0515733432691885, 6.066381824108432, 6.081190579856927, 6.096, 6.096, 6.110810463377726, 6.125622306249171, 6.140435854228156, 6.1552514329284955, 6.170069367964006, 6.184889984948504, 6.1997136094958085, 6.214540567219736, 6.2293711837341, 6.244205784652722, 6.259044695589417, 6.273888242158, 6.2887367499722915, 6.303590544646107, 6.318449951793261, 6.333315297027573, 6.3481869059628595, 6.363065104212937, 6.377950217391621, 6.392842571112732, 6.407742490990085, 6.422650302637496, 6.437566331668783, 6.452490903697761, 6.467424344338249, 6.4823669792040635, 6.497319133909021, 6.512281134066939, 6.527253305291633, 6.542235973196921, 6.557229463396619, 6.572234101504546, 6.587250213134517, 6.602278123900349, 6.617318159415859, 6.6323706452948645, 6.647435907151182, 6.662514270598628, 6.67760606125102, 6.692711604722175, 6.707831226625909, 6.7229652525760395, 6.7381140081863835, 6.753277819070757, 6.768457010842979, 6.783651909116863, 6.79886283950623, 6.814090127624894, 6.829334099086672, 6.844595079505382, 6.859873394494841, 6.875169369668865, 6.8904833306412705, 6.905815603025875, 6.921166512436496, 6.93653638448695, 6.951925544791053, 6.967334318962624, 6.982763032615478, 6.998212011363432, 7.013681580820303, 7.02917206659991, 7.044683794316065, 7.06021708958259, 7.075772278013299, 7.091349685222012, 7.106949636822541, 7.1225724584287065, 7.138218475654324, 7.153888014113213, 7.169581399419185, 7.1852989571860615, 7.201041013027658, 7.2168078925577905, 7.232599921390278, 7.248417425138936, 7.264260729417581, 7.280130159840031, 7.296026042020102, 7.311948701571612, 7.327898464108374, 7.343875655244211, 7.359880600592937, 7.3759136257683675, 7.39197505638432, 7.408065218054613, 7.424184436393063, 7.440333037013485, 7.456511345529697, 7.472719687555518, 7.488958388704761, 7.505227774591246, 7.5215281708287876, 7.5378599030312055, 7.554223296812314, 7.57061867778593, 7.587046371565872, 7.603506703765956, 7.62, 7.62, 7.636525856960283, 7.653080955652941, 7.66966124816257, 7.686262686573772, 7.702881222971143, 7.7195128094392835, 7.736153398062789, 7.752798940926261, 7.769445390114297, 7.7860886977114925, 7.802724815802451, 7.819349696471767, 7.835959291804041, 7.852549553883871, 7.869116434795856, 7.885655886624593, 7.902163861454681, 7.91863631137072, 7.935069188457306, 7.95145844479904, 7.967800032480518, 7.984089903586341, 8.000324010201103, 8.01649830440941, 8.032608738295853, 8.048651263945034, 8.06462183344155, 8.080516398870001, 8.096330912314986, 8.1120613258611, 8.127703591592946, 8.143253661595118, 8.158707487952219, 8.174061022748845, 8.189310218069592, 8.204451025999063, 8.219479398621855, 8.234391288022564, 8.24918264628579, 8.263849425496133, 8.278387577738192, 8.292793055096562, 8.307061809655844, 8.321189793500633, 8.335172958715534, 8.349007257385141, 8.362688641594051, 8.376213063426865, 8.389576474968182, 8.402774828302599, 8.415804075514716, 8.42866016868913, 8.441339059910437, 8.45383670126324, 8.466149044832138, 8.478272042701725, 8.490201646956603, 8.501933809681367, 8.513464482960618, 8.524789618878957, 8.535905169520976, 8.546807086971278, 8.55749132331446, 8.567953830635124, 8.578190561017863, 8.588197466547276, 8.597970499307964, 8.607505611384525, 8.616798754861561, 8.625845881823663, 8.634642944355432, 8.643185894541471, 8.651470684466371, 8.659493266214739, 8.667249591871165, 8.674735613520253, 8.6819472832466, 8.688880553134803, 8.695531375269464, 8.701895701735179, 8.707969484616545, 8.713748675998161, 8.71922922796463, 8.724407092600547, 8.729278221990507, 8.733838568219115, 8.738084083370966, 8.74201071953066, 8.74561442878279, 8.748891163211962, 8.751836874902772, 8.754447515939818, 8.756719038407697, 8.758647394391007, 8.760228535974349, 8.76145841524232, 8.76233298427952, 8.76284819517055, 8.763, 8.763, 8.762785706533998, 8.762208045264774, 8.761271102366072, 8.759978964011646, 8.758335716375246, 8.756345445630618, 8.75401223795152, 8.751340179511697, 8.748333356484899, 8.744995855044882, 8.74133176136539, 8.737345161620178, 8.733040141982995, 8.72842078862759, 8.723491187727713, 8.718255425457121, 8.712717587989557, 8.706881761498773, 8.700752032158523, 8.694332486142553, 8.687627209624614, 8.680640288778461, 8.673375809777838, 8.6658378587965, 8.658030522008199, 8.649957885586678, 8.641624035705696, 8.633033058538997, 8.624189040260335, 8.61509606704346, 8.60575822506212, 8.596179600490066, 8.586364279501053, 8.576316348268827, 8.56603989296714, 8.555538999769743, 8.544817754850385, 8.533880244382816, 8.522730554540788, 8.51137277149805, 8.499810981428352, 8.48804927050545, 8.476091724903087, 8.463942430795017, 8.451605474354992, 8.439084941756757, 8.42638491917407, 8.413509492780674, 8.400462748750325, 8.387248773256774, 8.373871652473765, 8.360335472575052, 8.346644319734388, 8.332802280125518, 8.318813439922197, 8.304681885298177, 8.290411702427201, 8.276006977483027, 8.261471796639402, 8.246810246070075, 8.232026411948798, 8.217124380449324, 8.2021082377454, 8.186982070010778, 8.17174996341921, 8.15641600414444, 8.140984278360227, 8.125458872240314, 8.109843871958457, 8.094143363688405, 8.078361433603906, 8.062502167878712, 8.046569652686577, 8.030567974201244, 8.014501218596468, 7.998373472046002, 7.982188820723591, 7.965951350802987, 7.949665148457946, 7.933334299862208, 7.916962891189534, 7.900555008613666, 7.88411473830836, 7.867646166447365, 7.85115337920443, 7.834640462753305, 7.818111503267746, 7.801570586921496, 7.785021799888309, 7.768469228341937, 7.7519169584561265, 7.7353690764046314, 7.718829668361202, 7.702302820499586, 7.685792618993536, 7.669303150016803, 7.652838499743134, 7.6364027543462845, 7.620000000000001, 7.62, 7.603633555698149, 7.587303671715054, 7.571009831145154, 7.554751517082888, 7.538528212622693, 7.52233940085901, 7.506184564886275, 7.490063187798928, 7.473974752691408, 7.457918742658152, 7.4418946407936, 7.4259019301921905, 7.409940093948361, 7.39400861515655, 7.378106976911198, 7.362234662306743, 7.346391154437622, 7.330575936398274, 7.314788491283139, 7.299028302186655, 7.28329485220326, 7.267587624427391, 7.251906101953491, 7.236249767875996, 7.2206181052893434, 7.2050105972879726, 7.189426726966324, 7.173865977418833, 7.158327831739941, 7.142811773024085, 7.127317284365704, 7.1118438488592375, 7.096390949599122, 7.080958069679798, 7.0655446921957035, 7.050150300241277, 7.034774376910956, 7.0194164052991805, 7.00407586850039, 6.98875224960902, 6.973445031719512, 6.958153697926303, 6.942877731323832, 6.927616615006537, 6.912369832068858, 6.897136865605232, 6.881917198710099, 6.8667103144778965, 6.851515696003063, 6.836332826380038, 6.821161188703259, 6.806000266067166, 6.790849541566197, 6.775708498294788, 6.760576619347383, 6.745453387818416, 6.730338286802327, 6.715230799393555, 6.700130408686538, 6.6850365977757145, 6.6699488497555235, 6.654866647720404, 6.639789474764793, 6.624716813983132, 6.609648148469856, 6.594582961319405, 6.579520735626219, 6.564460954484735, 6.549403100989391, 6.534346658234628, 6.519291109314882, 6.504235937324594, 6.489180625358201, 6.474124656510141, 6.459067513874854, 6.444008680546779, 6.428947639620351, 6.413883874190014, 6.398816867350202, 6.383746102195356, 6.3686710618199145, 6.353591229318314, 6.338506087784995, 6.3234151203143965, 6.308317810000955, 6.29321363993911, 6.278102093223303, 6.262982652947969, 6.247854802207546, 6.232718024096475, 6.217571801709194, 6.202415618140141, 6.187248956483753, 6.172071299834473, 6.156882131286736, 6.141680933934982, 6.126467190873647, 6.111240385197175, 6.096, 6.096, 6.080745660764706, 6.065477562526452, 6.0501960427085395, 6.034901438734275, 6.019594088026958, 6.004274328009894, 5.988942496106384, 5.973598929739731, 5.9582439663332405, 5.942877943310215, 5.927501198093955, 5.912114068107765, 5.896716890774948, 5.881310003518807, 5.865893743762644, 5.850468448929765, 5.83503445644347, 5.819592103727063, 5.804141728203847, 5.788683667297126, 5.7732182584302, 5.757745839026375, 5.742266746508954, 5.726781318301239, 5.7112898918265325, 5.695792804508137, 5.680290393769359, 5.664782997033497, 5.6492709517238575, 5.633754595263741, 5.6182342650764525, 5.602710298585294, 5.587183033213569, 5.571652806384579, 5.556119955521629, 5.540584818048021, 5.525047731387059, 5.509509032962045, 5.493969060196282, 5.478428150513072, 5.462886641335721, 5.447344870087528, 5.431803174191801, 5.416261891071839, 5.400721358150945, 5.385181912852425, 5.36964389259958, 5.354107634815713, 5.338573476924127, 5.323041756348126, 5.307512810511012, 5.291986976836089, 5.276464592746658, 5.260945995666024, 5.24543152301749, 5.229921512224356, 5.214416300709931, 5.198916225897512, 5.183421625210404, 5.167932836071912, 5.152450195905336, 5.136974042133982, 5.12150471218115, 5.106042543470145, 5.09058787342427, 5.075141039466826, 5.059702379021119, 5.044272229510448, 5.028850928358121, 5.013438812987438, 4.998036220821702, 4.982643489284217, 4.967260955798285, 4.951888957787211, 4.936527832674294, 4.921177917882842, 4.905839550836154, 4.890513068957534, 4.875198809670287, 4.859897110397714, 4.844608308563118, 4.829332741589805, 4.814070746901074, 4.798822661920229, 4.7835888240705735, 4.768369570775411, 4.7531652394580455, 4.737976167541777, 4.72280269244991, 4.70764515160575, 4.692503882432595, 4.677379222353752, 4.6622715087925215, 4.647181079172209, 4.632108270916115, 4.617053421447545, 4.602016868189801, 4.586998948566185, 4.572, 4.572, 4.557020164879391, 4.542058805451867, 4.527115088929776, 4.512188182525469, 4.497277253451293, 4.482381468919599, 4.4674999961427355, 4.452632002333054, 4.4377766547029, 4.422933120464628, 4.408100566830583, 4.393278161013116, 4.3784650702245775, 4.3636604616773145, 4.348863502583678, 4.334073360156018, 4.319289201606682, 4.304510194148021, 4.289735504992382, 4.274964301352118, 4.260195750439577, 4.245429019467106, 4.230663275647057, 4.215897686191778, 4.2011314183136195, 4.186363639224932, 4.171593516138062, 4.15682021626536, 4.142042906819175, 4.127260755011859, 4.112472928055758, 4.097678593163224, 4.082876917546603, 4.068067068418247, 4.053248212990506, 4.038419518475728, 4.023580152086263, 4.0087292810344595, 3.9938660725326676, 3.9789896937932365, 3.964099312028516, 3.9491940944508546, 3.934273208272603, 3.919335820706109, 3.9043810989637233, 3.8894082102577947, 3.874416321800673, 3.859404600804707, 3.844372214482246, 3.82931833004564, 3.814242114707238, 3.79914273567939, 3.7840193601744447, 3.7688711554047516, 3.75369728858266, 3.7384969269205195, 3.7232692376306793, 3.7080133879254893, 3.6927285450172986, 3.6774138761184565, 3.662068548441312, 3.6466917291982153, 3.6312825856015154, 3.6158402848635616, 3.600363994196703, 3.584852880813289, 3.5693061119256706, 3.5537228547461948, 3.538102276487213, 3.5224435443610727, 3.5067458255801247, 3.4910082873567183, 3.4752300969032026, 3.4594104214319263, 3.4435484281552395, 3.4276432842854923, 3.4116941570350328, 3.395700213616211, 3.379660621241376, 3.3635745471228775, 3.3474411584730643, 3.331259622504287, 3.3150291064288937, 3.2987487774592346, 3.2824178028076587, 3.2660353496865153, 3.2496005853081544, 3.2331126768849243, 3.216570791629176, 3.199974096753257, 3.1833217594695187, 3.166612946990308, 3.149846826527977, 3.1330225652948727, 3.1161393305033465, 3.0991962893657465, 3.0821926090944225, 3.065127456901724, 3.048, 3.048, 3.030809650691624, 3.0135568016390635, 2.996242090594811, 2.9788661553113576, 2.961429633541194, 2.943933163036814, 2.9263773815507075, 2.908762926835367, 2.8910904366432844, 2.8733605487269505, 2.855573900838858, 2.837731130731498, 2.8198328761573617, 2.8018797748689415, 2.783872464618729, 2.7658115831592154, 2.747697768242893, 2.7295316576222537, 2.7113138890497877, 2.6930451002779883, 2.674725929059347, 2.6563570131463536, 2.6379389902915027, 2.6194724982472835, 2.6009581747661885, 2.5823966576007105, 2.563788584503339, 2.5451345932265674, 2.526435321522887, 2.5076914071447898, 2.488903487844766, 2.4700722013753085, 2.4511981854889084, 2.4322820779380585, 2.4133245164752495, 2.394326138852973, 2.375287582823721, 2.3562094861399854, 2.337092486554257, 2.3179372218190286, 2.2987443296867913, 2.2795144479100364, 2.2602482142412565, 2.2409462664329425, 2.2216092422375864, 2.2022377794076795, 2.1828325156957145, 2.1633940888541816, 2.1439231366355735, 2.124420296792382, 2.104886207077098, 2.0853215052422143, 2.065726829040221, 2.0461028162236103, 2.026450104544875, 2.0067693317565056, 1.9870611356109944, 1.9673261538608329, 1.9475650242585125, 1.927778384556525, 1.907966872507362, 1.888131125863516, 1.8682717823774773, 1.8483894798017386, 1.8284848558887916, 1.8085585483911268, 1.7886111950612373, 1.768643433651614, 1.748655901914749, 1.7286492376031333, 1.7086240784692592, 1.6885810622656183, 1.6685208267447018, 1.6484440096590023, 1.6283512487610106, 1.6082431818032188, 1.5881204465381182, 1.5679836807182008, 1.5478335220959585, 1.5276706084238825, 1.5074955774544647, 1.4873090669401967, 1.4671117146335702, 1.446904158287077, 1.4266870356532084, 1.4064609844844567, 1.386226642533313, 1.3659846475522692, 1.3457356372938167, 1.325480249510448, 1.3052191219546538, 1.2849528923789264, 1.2646821985357575, 1.244407678177638, 1.2241299690570604, 1.2038497089265163, 1.183567535538497, 1.1632840866454943, 1.143]\n"
          ],
          "name": "stdout"
        }
      ]
    },
    {
      "cell_type": "code",
      "metadata": {
        "id": "tCj5zKTJFJeo"
      },
      "source": [
        "def getLength(a, b):\n",
        "  length = 0\n",
        "  \n",
        "  first = True\n",
        "  x = 0\n",
        "  y = 0\n",
        "  if b > a:\n",
        "    for i in range(len(x_vals)):\n",
        "      if x_vals[i] >= a and x_vals[i] <= b:\n",
        "        if first:\n",
        "          x = x_vals[i]\n",
        "          y = y_vals[i]\n",
        "          first = False\n",
        "          continue\n",
        "\n",
        "        length += np.sqrt((x_vals[i] - x) ** 2 + (y_vals[i] - y) ** 2)\n",
        "        x = x_vals[i]\n",
        "        y = y_vals[i]\n",
        "  else:\n",
        "    for i in range(len(x_vals)):\n",
        "      if x_vals[i] >= b and x_vals[i] <= a:\n",
        "        if first:\n",
        "          x = x_vals[i]\n",
        "          y = y_vals[i]\n",
        "          first = False\n",
        "          continue\n",
        "\n",
        "        length += np.sqrt((x_vals[i] - x) ** 2 + (y_vals[i] - y) ** 2)\n",
        "        x = x_vals[i]\n",
        "        y = y_vals[i]\n",
        "  return length\n"
      ],
      "execution_count": 954,
      "outputs": []
    },
    {
      "cell_type": "code",
      "metadata": {
        "id": "StcvYM4b_8-1",
        "colab": {
          "base_uri": "https://localhost:8080/",
          "height": 486
        },
        "outputId": "539290d7-9d58-495f-a6f8-28c9f6c11dc9"
      },
      "source": [
        "waypoints = []\n",
        "\n",
        "prev_x = input[0]\n",
        "prev_y = output[0]\n",
        "prev_n = 0\n",
        "\n",
        "for i in range(len(input)):\n",
        "  arc_len = getLength(prev_x, input[i])\n",
        "\n",
        "  if arc_len == 0:\n",
        "    t = 0\n",
        "  else:\n",
        "    t = arc_len / 5 #THIS WAS FOR THE DOUBLE HELIX RUN\n",
        "    #t = arc_len / (0.5/arc_len)\n",
        "    #t = arc_len / 3 #NEED TO TUNE BTW\n",
        "  print(arc_len)\n",
        "\n",
        "  #print((str)(prev_x) + \" to \" + (str)(input[i]) + \" gave \" + (str)(t))\n",
        "  if i == 0:\n",
        "    waypoints.append(\n",
        "        (np.array([input[i], output[i], np.pi/4, 0, 0]), prev_n + (int)(t/0.04))\n",
        "        )\n",
        "  elif i == len(input)-1:\n",
        "    waypoints.append(\n",
        "        (np.array([input[i], output[i], 3*np.pi/4, 0, 0]), prev_n + (int)(t/0.04)) #NOTE NEED TO CHANGE TO REFLECT ENDING STATE\n",
        "        )\n",
        "  else:\n",
        "    waypoints.append(\n",
        "        (np.array([input[i], output[i]]), prev_n + (int)(t/0.04))\n",
        "        )\n",
        "  prev_n += (int)(t/0.04)\n",
        "  prev_x = input[i]\n",
        "  \n",
        "for i in range(len(waypoints)):\n",
        "  #print(waypoints[i][1])\n",
        "  pass\n",
        "\n",
        "#Working Helix Path\n",
        "waypoints = [\n",
        "    (np.array([1.143, 0.762, 0, 0, 0]), 0),\n",
        "    (np.array([1.62, 0.762]), 8),\n",
        "    (np.array([3.048, 2.08]), 22),\n",
        "    (np.array([6.096, 2]), 40),\n",
        "    (np.array([6.4, 2]), 45),\n",
        "    (np.array([7.62, 0.762, 0]), 78),\n",
        "    (np.array([8.763, 1.524]), 94),\n",
        "    (np.array([7.62, 2.286]), 110),\n",
        "    (np.array([6.096, 1]), 136),\n",
        "    #(np.array([3.048, 1]), 155),\n",
        "    (np.array([1.143, 2.286]), 200),\n",
        "]\n",
        "\n",
        "'''#Galactice Search Path A RED\n",
        "waypoints = [\n",
        "    (np.array([0, 2.286, 0, 0, 0]), 0),\n",
        "    (np.array([2.286, 2.286]), 20),\n",
        "    (np.array([3.81, 1.524]), 35),\n",
        "    (np.array([4.572, 3.81]), 55),\n",
        "    (np.array([9.144, 3.81, 0, 0, 0]), 86),\n",
        "]'''\n",
        "'''\n",
        "#Galactice Search Path A BLUE\n",
        "waypoints = [\n",
        "    (np.array([0, 0.762, 0, 0, 0]), 0),\n",
        "    (np.array([4.572, 0.762]), 36),\n",
        "    (np.array([5.334, 3.048]), 52),\n",
        "    (np.array([6.858, 2.286]), 69),\n",
        "    (np.array([9.144, 2.286, 0, 0, 0]), 85),\n",
        "]\n",
        "\n",
        "#Galactice Search Path B RED\n",
        "waypoints = [\n",
        "    (np.array([0, 3.048, 0, 0, 0]), 0),\n",
        "    (np.array([2.286, 3.048]), 17),\n",
        "    (np.array([3.81, 1.524]), 34),\n",
        "    (np.array([5.334, 3.048]), 53),\n",
        "    (np.array([9.144, 3.048, 0, 0, 0]), 80),\n",
        "]\n",
        "\n",
        "#Galactice Search Path B BLUE\n",
        "waypoints = [\n",
        "    (np.array([0, 1.524, 0, 0, 0]), 0),\n",
        "    (np.array([3.81, 1.524]), 27),\n",
        "    (np.array([6.096, 3.048]), 46),\n",
        "    (np.array([7.62, 1.524]), 65),\n",
        "    (np.array([9.144, 1.524, 0, 0, 0]), 77),\n",
        "]'''\n",
        "\n",
        "'''waypoints = [\n",
        "    (np.array([0, 0.762, 0, 0, 0]), 0),\n",
        "    (np.array([4.572, 0.762]), 36),\n",
        "    (np.array([5.334, 3.048]), 52),\n",
        "    (np.array([6.858, 2.286]), 69),\n",
        "    (np.array([9.144, 2.286, 0, 0, 0]), 85),\n",
        "]\n",
        "'''\n",
        "'''\n",
        "#incomplete barrel racing path\n",
        "waypoints = [\n",
        "    (np.array([1.27, 1.905, 0, 0, 0]), 0),\n",
        "    (np.array([4.445, 1.524]), 45),\n",
        "    (np.array([3.81, 1.143]), 65),\n",
        "    (np.array([3.556, 1.524]), 78),\n",
        "    (np.array([6.858, 3.302]), 150)\n",
        "\n",
        "]'''\n",
        "plt.plot(x_vals, y_vals)\n",
        "plt.scatter(input, output)"
      ],
      "execution_count": 955,
      "outputs": [
        {
          "output_type": "stream",
          "text": [
            "1.524\n",
            "2.804086509729188\n",
            "2.9126547289606814\n",
            "5.314537438159519\n",
            "4.322494257555623\n",
            "5.523345343510055\n",
            "3.087983133025491\n",
            "3.087983133025491\n",
            "5.523345343510055\n",
            "4.322494257555623\n",
            "5.314537438159519\n",
            "5.698425296181251\n"
          ],
          "name": "stdout"
        },
        {
          "output_type": "execute_result",
          "data": {
            "text/plain": [
              "<matplotlib.collections.PathCollection at 0x7f29e7fd88d0>"
            ]
          },
          "metadata": {
            "tags": []
          },
          "execution_count": 955
        },
        {
          "output_type": "display_data",
          "data": {
            "image/png": "[encoded data removed]",
            "text/plain": [
              "<Figure size 432x288 with 1 Axes>"
            ]
          },
          "metadata": {
            "tags": [],
            "needs_background": "light"
          }
        }
      ]
    },
    {
      "cell_type": "code",
      "metadata": {
        "colab": {
          "base_uri": "https://localhost:8080/"
        },
        "id": "TNwC3uJDSKZk",
        "outputId": "5a67b975-1583-4296-b08a-2cac404ede10"
      },
      "source": [
        "for i in waypoints:\n",
        "  print((str)(i[0]) + \" \" + (str)(i[1]))"
      ],
      "execution_count": 956,
      "outputs": [
        {
          "output_type": "stream",
          "text": [
            "[1.143 0.762 0.    0.    0.   ] 0\n",
            "[1.62  0.762] 8\n",
            "[3.048 2.08 ] 22\n",
            "[6.096 2.   ] 40\n",
            "[6.4 2. ] 45\n",
            "[7.62  0.762 0.   ] 78\n",
            "[8.763 1.524] 94\n",
            "[7.62  2.286] 110\n",
            "[6.096 1.   ] 136\n",
            "[1.143 2.286] 200\n"
          ],
          "name": "stdout"
        }
      ]
    },
    {
      "cell_type": "markdown",
      "metadata": {
        "id": "3Vj3q1mEGllQ"
      },
      "source": [
        "`solve` is the actual function which sets everything up and solves for the optimum solution\n",
        "\n",
        "\n",
        "`N` - is the number of intervals\n",
        "\n",
        "`T` - is the time per interval (we use this since we do linear approximation)\n",
        "\n",
        "`u` - empty list in which we will put every value in\n",
        "\n",
        "`x` - same as `u` except it's for all the state variables\n"
      ]
    },
    {
      "cell_type": "markdown",
      "metadata": {
        "id": "LY9oiTxt2UrT"
      },
      "source": [
        "The cost function it is tring to solve is defined as follows:\n",
        "\n",
        "$J(u, x) = l_w + \\int_0^{n+!}{l(x)dt}$ #This is wrong. Will fix later\n",
        "\n",
        "where $l_w$ is the final value and the integral is the value of $l(x))$, our cost function, being compared to our desired waypoints and our torque. Note, we use quadratic costs since they are guaranteed to have a minimum.\n",
        "\n",
        "Obviously, we can't actually compute this definite integral, so we solve it numerically using the approximation $f(n+1) = f(n) + f'(n) * T$ where $T$ is our change in time\n",
        "\n",
        "We also have constraints as follows:\n",
        "  - The starting point must be the same\n",
        "  - The voltage $\\in [-12, 12]$\n",
        "\n",
        "We also have costs we would like to minimize:\n",
        "  - waypoints at current location - desired current location. This is given a lot of weight since we desire this cost a lot\n",
        "  - We are also adding a cost on torque so the robot doesn't move in a way which is hard on the motors\n",
        "\n",
        "We then solve for this function, which takes a majority of the time, and get an output of $x$ and $u$."
      ]
    },
    {
      "cell_type": "code",
      "metadata": {
        "id": "n1DNkVCCRm4K"
      },
      "source": [
        "#Note in the future may need to make all/some of waypoints constraints since intake can't even handle a few inches of error\n",
        "\n",
        "def solve():\n",
        "\n",
        "  #N = waypoints[-1, 1] + 1\n",
        "  N = waypoints[-1][1] + 1\n",
        "  T = 0.04 #Frequency robot runs at\n",
        "  prog = MathematicalProgram()\n",
        "\n",
        "  u = np.empty((2, N-1), dtype=Variable)\n",
        "  x = np.empty((5, N), dtype=Variable)\n",
        "  curvature = np.empty((1, N), dtype=Variable)\n",
        "\n",
        "  for n in range(N-1):\n",
        "    #Creating the variables that we need to solve for\n",
        "    u[:,n] = prog.NewContinuousVariables(2, 'u' + str(n))\n",
        "    x[:,n] = prog.NewContinuousVariables(5, 'x' + str(n))\n",
        "    curvature[0,n] = prog.NewContinuousVariables(1, 'c' + str(n))\n",
        "\n",
        "    #Placing initial guesses on all of them\n",
        "    prog.SetInitialGuess(u[:,n], np.zeros_like(u[:,n]))\n",
        "    prog.SetInitialGuess(x[:,n], np.zeros_like(x[:,n]))\n",
        "  x[:,N-1] = prog.NewContinuousVariables(5, 'x' + str(N))\n",
        "  prog.SetInitialGuess(u, np.ones((2,N-1))*12)\n",
        "\n",
        "  #Constrain the first point so the robot must be there\n",
        "  prog.AddBoundingBoxConstraint(waypoints[0][0], waypoints[0][0], x[:,waypoints[0][1]])\n",
        "\n",
        "  for n in range(0, N-1):\n",
        "    #Adding constraints to how far the robot can move, the max voltage, and the curvature\n",
        "    prog.AddConstraint(eq(x[:,n+1], x[:,n]+model(x[:,n], u[:,n])*T))\n",
        "    prog.AddBoundingBoxConstraint(-12, 12, u[:,n]) \n",
        "    prog.AddConstraint(eq(x[4, n], x[3, n] * curvature[0, n]))\n",
        "    prog.AddQuadraticCost(100*(curvature[0,n].dot(curvature[0,n])))\n",
        "\n",
        "    v = x[3,n]\n",
        "    torque = np.array([getWheelTorque(u[0,n], getWheelVelocity(x[3,n], x[4,n], False)), getWheelTorque(u[1,n], getWheelVelocity(x[3,n], x[4,n], True))])\n",
        "    prog.AddQuadraticCost(1000*torque.dot(torque))\n",
        "    prog.AddConstraint(ge(v, np.array([0])))\n",
        "\n",
        "  for i in range(len(waypoints)):\n",
        "    #Constaining every waypoint so the robot must land there\n",
        "    \n",
        "    #prog.AddBoundingBoxConstraint(waypoints[i][0] - np.ones(len(waypoints[i][0]))*0, waypoints[i][0]+np.ones(len(waypoints[i][0]))*0, x[:len(waypoints[i][0]),waypoints[i][1]])\n",
        "    prog.AddBoundingBoxConstraint(waypoints[i][0], waypoints[i][0], x[:len(waypoints[i][0]),waypoints[i][1]])\n",
        "    '''num = waypoints[i][0] - x[:len(waypoints[i][0]), waypoints[i][1]]\n",
        "    prog.AddQuadraticCost(100000 * (num).dot(num))'''\n",
        "\n",
        "  \n",
        "    \n",
        "  result = Solve(prog)\n",
        "\n",
        "  x_sol = result.GetSolution(x)\n",
        "  u_sol = result.GetSolution(u)\n",
        "\n",
        "  assert(result.is_success()), \"Optimization failed\"\n",
        "\n",
        "  return x_sol, u_sol, N, T\n",
        "\n",
        "  print(x_sol)\n",
        "  print(u_sol)"
      ],
      "execution_count": 957,
      "outputs": []
    },
    {
      "cell_type": "code",
      "metadata": {
        "id": "qF0qnTOBRqy8"
      },
      "source": [
        "x_sol, u_sol, N, T = solve()"
      ],
      "execution_count": 958,
      "outputs": []
    },
    {
      "cell_type": "markdown",
      "metadata": {
        "id": "-1oUtWFvG9uH"
      },
      "source": [
        "Here we are splitting `x_sol` into it's x and y parts (note: it has more information but for a graph, this is enough)"
      ]
    },
    {
      "cell_type": "code",
      "metadata": {
        "id": "aopOYEmqRrYf",
        "colab": {
          "base_uri": "https://localhost:8080/",
          "height": 322
        },
        "outputId": "da32c27b-f595-49e2-ab28-da7062e4662a"
      },
      "source": [
        "x_coords = []\n",
        "y_coords = []\n",
        "theta = []\n",
        "velocity = []\n",
        "angular_velocity = []\n",
        "\n",
        "for i in range(N):\n",
        "  x_coords.append((float)(\"%.4f\" % (3.28084 * x_sol[0,i])))\n",
        "  y_coords.append((float)(\"%.4f\" % (3.28084 * x_sol[1,i])))\n",
        "  theta.append(x_sol[2,i])\n",
        "  velocity.append(x_sol[3,i])\n",
        "  angular_velocity.append(x_sol[4,i])\n",
        "#print(x_coords)\n",
        "#print(y_coords)\n",
        "\n",
        "x_points = []\n",
        "y_points = []\n",
        "for i in range(len(waypoints)):\n",
        "  x_points.append(3.28084 * waypoints[i][0][0])\n",
        "  y_points.append(3.28084 * waypoints[i][0][1])\n",
        "\n",
        "\n",
        "#print(u_sol)\n",
        "plt.plot(x_coords, y_coords, linewidth=2, label='trajectory')\n",
        "plt.title('Robot Trajectory in terms of x and y', c='white', fontsize=20)\n",
        "plt.xlabel(\"x position of robot\", c='white', fontsize=15) \n",
        "plt.ylabel(\"y position of robot\", c='white', fontsize=15) \n",
        "plt.scatter(x_points, y_points)\n",
        "print(\"Time taken: \" + str(T * waypoints[-1][1]) + \" seconds\")\n",
        "plt.xlim(0, 30)\n",
        "plt.ylim(0, 15)\n",
        "plt.legend()\n",
        "plt.grid()\n",
        "\n",
        "prev = 0\n",
        "for i in x_coords:\n",
        "  #print(i-prev)\n",
        "  prev = i"
      ],
      "execution_count": 959,
      "outputs": [
        {
          "output_type": "stream",
          "text": [
            "Time taken: 8.0 seconds\n"
          ],
          "name": "stdout"
        },
        {
          "output_type": "display_data",
          "data": {
            "image/png": "[encoded data removed]",
            "text/plain": [
              "<Figure size 432x288 with 1 Axes>"
            ]
          },
          "metadata": {
            "tags": [],
            "needs_background": "light"
          }
        }
      ]
    },
    {
      "cell_type": "markdown",
      "metadata": {
        "id": "0SyCxL7-HIGq"
      },
      "source": [
        "This is doing the same thing but now for `u_sols`. It graphs the voltage each motor needs to apply at each time interval"
      ]
    },
    {
      "cell_type": "code",
      "metadata": {
        "id": "NXoKmnelj3Ep",
        "colab": {
          "base_uri": "https://localhost:8080/",
          "height": 305
        },
        "outputId": "07ce0b3e-8383-4893-d01a-d17e4a5fb528"
      },
      "source": [
        "left = []\n",
        "right = []\n",
        "\n",
        "for i in range(N-1):\n",
        "  left.append((float)(\"%.4f\" % u_sol[0, i]))\n",
        "  right.append((float)(\"%.4f\" % u_sol[1, i]))\n",
        "\n",
        "time = []\n",
        "for i in range(N-1):\n",
        "  time.append(i * T)\n",
        "\n",
        "plt.plot(time, left, label=\"Left Motor\", linewidth=2)\n",
        "plt.plot(time, right, label=\"Right Motor\", linewidth=2)\n",
        "\n",
        "\n",
        "plt.title(\"Voltage each motor must apply\", fontsize=20, c='white')\n",
        "plt.xlabel('Time', fontsize=15, c='white')\n",
        "plt.ylabel('Voltage', fontsize=15, c='white')\n",
        "plt.legend()\n",
        "plt.grid()\n"
      ],
      "execution_count": 960,
      "outputs": [
        {
          "output_type": "display_data",
          "data": {
            "image/png": "[encoded data removed]",
            "text/plain": [
              "<Figure size 432x288 with 1 Axes>"
            ]
          },
          "metadata": {
            "tags": [],
            "needs_background": "light"
          }
        }
      ]
    },
    {
      "cell_type": "code",
      "metadata": {
        "id": "pgke5PG4rB3U",
        "colab": {
          "base_uri": "https://localhost:8080/",
          "height": 296
        },
        "outputId": "e9f9e9c6-48be-4ddb-a357-c9933db57854"
      },
      "source": [
        "fig, ((ax1, ax2), (ax3, ax4)) = plt.subplots(2, 2, sharex=False, sharey=False)\n",
        "\n",
        "ax1.plot(time, left, label=\"Left Motor\", linewidth=2)\n",
        "ax1.plot(time, right, label=\"Right Motor\", linewidth=2)\n",
        "\n",
        "time_2 = time.copy()\n",
        "time_2.append((N-1) * T)\n",
        "ax2.plot(time_2, theta)\n",
        "\n",
        "ax3.plot(time_2, velocity)\n",
        "\n",
        "ax4.plot(time_2, angular_velocity)\n",
        "\n",
        "print(\"Time taken: \" + (str)(time_2[-1]))\n",
        "#ax1.title(\"Voltage each motor must apply\", fontsize=20, c='white')\n",
        "ax1.set(xlabel='Time', ylabel='Voltage')\n",
        "ax2.set(xlabel='Time', ylabel='Theta')\n",
        "ax3.set(xlabel='Time', ylabel='Velocity')\n",
        "ax4.set(xlabel='Time', ylabel='Angular Velocity')\n",
        "#ax1.xlabel('Time', fontsize=15, c='white')\n",
        "#ax1.ylabel('Voltage', fontsize=15, c='white')\n",
        "ax1.legend()\n",
        "ax1.grid()\n",
        "\n",
        "for i in range(len(x_coords)):\n",
        "  x_temp = x_coords[i]\n",
        "  x_coords[i] = -y_coords[i]\n",
        "  y_coords[i] = x_temp\n"
      ],
      "execution_count": 961,
      "outputs": [
        {
          "output_type": "stream",
          "text": [
            "Time taken: 8.0\n"
          ],
          "name": "stdout"
        },
        {
          "output_type": "display_data",
          "data": {
            "image/png": "[encoded data removed]",
            "text/plain": [
              "<Figure size 432x288 with 4 Axes>"
            ]
          },
          "metadata": {
            "tags": [],
            "needs_background": "light"
          }
        }
      ]
    },
    {
      "cell_type": "code",
      "metadata": {
        "id": "EhOhh1hH0HF1",
        "colab": {
          "base_uri": "https://localhost:8080/",
          "height": 303
        },
        "outputId": "a7d95731-e13b-44d7-df67-8d5522441fa2"
      },
      "source": [
        "plt.plot(x_coords, y_coords)\n",
        "print(x_coords[0])\n",
        "print(y_coords[0])\n",
        "x_0 = x_coords[0]\n",
        "y_0 = y_coords[0]"
      ],
      "execution_count": 962,
      "outputs": [
        {
          "output_type": "stream",
          "text": [
            "-2.5\n",
            "3.75\n"
          ],
          "name": "stdout"
        },
        {
          "output_type": "display_data",
          "data": {
            "image/png": "[encoded data removed]",
            "text/plain": [
              "<Figure size 432x288 with 1 Axes>"
            ]
          },
          "metadata": {
            "tags": [],
            "needs_background": "light"
          }
        }
      ]
    },
    {
      "cell_type": "code",
      "metadata": {
        "id": "qx4tjc0zHOpB"
      },
      "source": [
        "with open('Slalom_new.tsv', 'w') as writefile:\n",
        "    for i in range(len(x_coords)):\n",
        "      writefile.write(\"%.4f\" %(x_coords[i] - x_0) + \"\\t\" + \"%.4f\" %(y_coords[i] - y_0)  + \"\\t\" + (\"%.2f\" % (T*i)) + \"\\n\")\n",
        "      x_coords[i] = x_coords[i] - x_0\n",
        "      y_coords[i] = y_coords[i] - y_0\n",
        "      #print((str)(x_coords[i]) + \", \" + (str)(y_coords[i])  + \", \" + (str)(\"%.2f\" % (T*i)) + \"\\n\")\n",
        "    \n",
        "with open('voltages.txt', 'w') as writefile:\n",
        "    for i in range(len(left)):\n",
        "      writefile.write((str)(left[i]) + \", \" + (str)(right[i])  + \", \" + \"\\n\")"
      ],
      "execution_count": 963,
      "outputs": []
    },
    {
      "cell_type": "code",
      "metadata": {
        "id": "pD8ynvWze_VC",
        "colab": {
          "base_uri": "https://localhost:8080/",
          "height": 282
        },
        "outputId": "62ef6a58-8599-4895-b274-7c8737638005"
      },
      "source": [
        "plt.scatter(x_coords, y_coords)"
      ],
      "execution_count": 964,
      "outputs": [
        {
          "output_type": "execute_result",
          "data": {
            "text/plain": [
              "<matplotlib.collections.PathCollection at 0x7f29e7c6ef90>"
            ]
          },
          "metadata": {
            "tags": []
          },
          "execution_count": 964
        },
        {
          "output_type": "display_data",
          "data": {
            "image/png": "[encoded data removed]",
            "text/plain": [
              "<Figure size 432x288 with 1 Axes>"
            ]
          },
          "metadata": {
            "tags": [],
            "needs_background": "light"
          }
        }
      ]
    },
    {
      "cell_type": "code",
      "metadata": {
        "id": "m9EpokvzyxT0",
        "colab": {
          "base_uri": "https://localhost:8080/"
        },
        "outputId": "f0e28704-8ac7-4d68-8515-808aeb0f58a7"
      },
      "source": [
        "print(\"Summary: \")\n",
        "print(\"\\t drive train info:\")\n",
        "print(\"\\t\\tMotors used: Falcons\")\n",
        "print(\"\\t\\tGear ratio: \" + str(gear_ratio))\n",
        "print(\"\\t\\tMOI: \" + str(I))\n",
        "print(\"\\t\\tWheel radius: \" + str(r_wheel))\n",
        "print(\"\\t\\tBot radius: \" + str(r_bot))\n",
        "print(\"\\t\\tMass: \" + str(m))\n",
        "print(\"\\t Performance info:\")\n",
        "print(\"\\t\\tNumber of waypoints: \" + str(len(waypoints)))\n",
        "print(\"\\t\\tSteps taken: \" + str(waypoints[-1][1]))\n",
        "print(\"\\t\\tTime taken: \" + str(time_2[-1]) + \" seconds\")\n",
        "print(\"\\t\\tEnding velocity: \" + str(x_sol[3,-1]) + \" m/s\")\n",
        "print(\"\\t\\tEnding Angular Velocity: \" + str(x_sol[4,-1]) + \" r/s\")\n",
        "print(\"\\t\\tEnding Angule (radians): \" + str(x_sol[2,-1]) + \" r\")"
      ],
      "execution_count": 965,
      "outputs": [
        {
          "output_type": "stream",
          "text": [
            "Summary: \n",
            "\t drive train info:\n",
            "\t\tMotors used: Falcons\n",
            "\t\tGear ratio: 8.952551477170994\n",
            "\t\tMOI: 11.338333333333333\n",
            "\t\tWheel radius: 0.0762\n",
            "\t\tBot radius: 0.5\n",
            "\t\tMass: 68.03\n",
            "\t Performance info:\n",
            "\t\tNumber of waypoints: 10\n",
            "\t\tSteps taken: 200\n",
            "\t\tTime taken: 8.0 seconds\n",
            "\t\tEnding velocity: 2.4550335731573316 m/s\n",
            "\t\tEnding Angular Velocity: -0.3936833258340126 r/s\n",
            "\t\tEnding Angule (radians): 2.2416875298110384 r\n"
          ],
          "name": "stdout"
        }
      ]
    },
    {
      "cell_type": "code",
      "metadata": {
        "id": "L2IMWP0KuU_h"
      },
      "source": [
        ""
      ],
      "execution_count": 965,
      "outputs": []
    }
  ]
}